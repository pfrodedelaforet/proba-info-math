{
 "cells": [
  {
   "cell_type": "code",
   "execution_count": 1,
   "metadata": {},
   "outputs": [],
   "source": [
    "import numpy as np\n",
    "import matplotlib.pyplot as plt\n",
    "import scipy\n",
    "import random as rd\n"
   ]
  },
  {
   "cell_type": "markdown",
   "metadata": {},
   "source": [
    "question 1 : Il s'agit de la loi des grands nombres : elle stipule que si on prend n var $X_{i}$ iid, ayant toutes une espérance finie, alors si on note $S_{n}= \\frac{1}{n} * \\sum_{k=1}^{n} X_k$ alors $\\lim\\limits_{n \\rightarrow +\\infty} E(S_n) = E(X_1)$. Ici, Sn correspondrait à la moyenne empirique des simulations conditionnelles, et E(X1) correspondrait à L*.\n",
    "question 2 : Voir proba IV page 13-14, où le problème est traité pour le vecteur des Z_i dans lequel les n-k dernières valeurs sont connues. Pour se ramener à ce problème, il faut seulement permuter les éléments de manière à ce que nos éléments $z_{j_{1}}, ....z_{j_{n}}$ se retrouvent à la fin du vecteur.\n",
    "\n",
    "question 3 : à remplir quand on aura retrouvé la feuille mais en gros si on pose Z = m+ RY, avec Y qui suit la loi normale centrée réduite, alors Z suit la loi N(m, C) avec C = $R * transposée(R)$. \n",
    "\n",
    "Question 4 : Le but de l'algorithme est de simuler la longueur totale connaissant $z_{j_{1}}, ....z_{j_{n}}$. Pour cela, on commence par permuter les éléments du vecteur pour que $j_{1}, ..., j_{n}$ se retrouvent en derniers élements du vecteur, comme dans le cours. Pour cela on peut par exemple considérer qu'on étudie pour la suite Z' = $P_{\\sigma} * Z$ avec $\\sigma$ la permutation associée. Ensuite, on peut appliquer le résultat de la question 2 et la question 3 : si on note $Z'_{obs} et Z'_{pasobs}$ les sous-vecteurs associés, alors $Z'_{pasobs}$|$Z'_{obs}=Z_{obs_{0}}$ suit la loi Gaussienne d'espérance $m_{pasobs}$ + ...............\n",
    "Notons l'espérance $\\mu$, la matrice de covariance associée C. Pour simuler cette loi, on doit commencer par simuler une loi normale centrée réduite, grace à la proposition page 10 de proba V. Ensuite, on applique la question 3 : on calcule la transformée de Cholesky de C, qu'on appelle R, et on calcule $\\mu$+RZ'.\n",
    "Grace à tout ca on a réussi à simuler Z', il reste juste à multiplier par l'inverse de la matrice de permutation pour obtenir Z, et ensuite à calculer l = $\\sum_{k=1}^{p-1} \\sqrt{\\delta ^{2} + (Z[k+1]-Z[k])^{2}}$. Enfin, en réitérant un certain nombre de fois, la question 1 nous permet d'assurer une approximation de l'espérance L* de la longueur conditionnelle"
   ]
  },
  {
   "cell_type": "code",
   "execution_count": 2,
   "metadata": {},
   "outputs": [
    {
     "data": {
      "text/plain": [
       "array([[1.43306262, 1.43306262],\n",
       "       [1.02683424, 1.02683424]])"
      ]
     },
     "execution_count": 2,
     "metadata": {},
     "output_type": "execute_result"
    }
   ],
   "source": [
    "\"\"\"question 1 de la partie pratique\"\"\"\n",
    "def cov(dist, a, V):\n",
    "    \"\"\"on distingue le cas d'une distance réelle ou d'une matrice de distances\"\"\"\n",
    "    if type(dist) == float:\n",
    "        return V * np.exp(-dist/a)\n",
    "    elif type(dist) == np.ndarray : \n",
    "        return np.array([[V * np.exp(-dist[i][j]/a)for j in range(len(dist))]for i in range(len(dist))])\n",
    "        \n",
    "cov(np.array([[1, 1], [2, 2]]), 3, 2)    "
   ]
  },
  {
   "cell_type": "markdown",
   "metadata": {},
   "source": [
    "Question 2 : Calculons la matrice de distance : M[i][j] = dist(|$x_{i}-x_{j}$|) = $|i-j| * \\delta$ , donc M = $\\delta  *(|i-j|)_{1<=i, j <= p}$\n",
    "Question 3 : Déduisons-en la matrice de covariance de notre problème : \n",
    "C = $V *(exp(-\\delta*\\frac{|i-j|}{a}))_{1<=i, j <= p}$"
   ]
  },
  {
   "cell_type": "code",
   "execution_count": 3,
   "metadata": {},
   "outputs": [],
   "source": [
    "\"\"\"En réalité, ici on ne procède pas exactement comme dans la réponse à la question 4, où l'on commencait par se ramener\n",
    "à un vecteur dont les dernières composantes sont les observables. Ici, on extrait directement les blocs de la matrice de \n",
    "covariance de Z, sans passer par l'étape intermédiaire de permutation : celle-ci est incluse dans le processus. Pour ces programmes, \n",
    "on considère (ce qui dans notre exemple est vrai), que obs_index est rangée dans l'ordre croissant\"\"\"\n",
    "\n",
    "def extrac_o_o(C, obs_index):\n",
    "    \"\"\"on extrait la matrice des indices observables, qui correspond à CZ dans le cours, \n",
    "    soit la sous-matrice en bas à droite de C proba IV page 13\"\"\"\n",
    "    C_o = np.array([[0 for j in range(len(obs_index))]for i in range(len(obs_index))])\n",
    "    for i in range(len(obs_index)):#on parcourt les indices observables de la matrice\n",
    "        for j in range(len(obs_index)):\n",
    "            C_o[i][j] = C[obs_index[i]][obs_index[j]]\n",
    "    return C_o\n",
    "def extrac_n_n(C, obs_index):\n",
    "    \"\"\"Ca correspond à la matrice des indices non observables, qui correspond à CY dans le cours,\n",
    "    soit la sous-matrice en haut à gauche de C\"\"\"\n",
    "    C_n = np.array([[0 for j in range(len(C)-len(obs_index))]for i in range(len(C)-len(obs_index))])\n",
    "    p = 0\n",
    "    q = 0\n",
    "    for i in range(len(C)):#p et q parcourent les indices non observables de la matrice\n",
    "        for j in range(len(C)):\n",
    "            if j not in obs_index :\n",
    "                if i not in obs_index : \n",
    "                    C_n[p][q] = C[i][j]\n",
    "                q += 1    \n",
    "        if i not in obs_index : \n",
    "                p += 1\n",
    "        q = 0\n",
    "    return C_n\n",
    "\n",
    "def extrac_o_n(C, obs_index):\n",
    "    \"\"\"Ca correspond à Czy, soit la matrice en bas à gauche de C, disons la matrice de covariance entre \n",
    "    observables et non observables\"\"\"\n",
    "    C_o_n = C_n = np.array([[0 for j in range(len(C)-len(obs_index))]for i in range(len(obs_index))])\n",
    "    q = 0\n",
    "    for i in range(len(obs_index)):#i parcourt les indices observables de la matrice\n",
    "        for j in range(len(C)):\n",
    "            if j not in obs_index : #j-q parcourt les indices non observables \n",
    "                C_o_n[i][q] = C[obs_index[i]][j]\n",
    "                q += 1\n",
    "        q = 0\n",
    "    return C_o_n\n"
   ]
  },
  {
   "cell_type": "code",
   "execution_count": 4,
   "metadata": {},
   "outputs": [],
   "source": [
    "\"\"\"question 5 il faut utiliser la question 2 théorique et les questions précédentes\"\"\"\n",
    "def schur_n(C, obs_index):\n",
    "    \"\"\"C dépendant de |xi-xj| uniquement, elle est symétrique, donc on a besoin uniquement de 3 sous matrices\"\"\"\n",
    "    C_z = extrac_o_o(C, obs_index)\n",
    "    C_y = extrac_n_n(C, obs_index)\n",
    "    C_zy = extrac_o_n(C, obs_index)\n",
    "    return C_y - np.linalg.multi_dot([C_zy.T, np.linalg.inv(C_z), C_zy])\n",
    "\n",
    "def Var_condi(Ccond, i, obs_index):\n",
    "    \"\"\"i est l'indice de notre position dans Z et non Z', on commence donc par\n",
    "    calculer la position i_ qu'a i sur la diagonale de la matrice conditionnelle, puis on calcule sa variance conditionnelle\"\"\"\n",
    "    i_ = 0\n",
    "    for j in range(i):\n",
    "        if j not in obs_index : \n",
    "            i_ += 1 \n",
    "    return Ccond[i_][i_]\n",
    "\n",
    "def E_condi(C, obs_index, mu, dept):\n",
    "    \"\"\"calcul de l'espérance conditionnelle : \n",
    "    on applique la formule du cours p 14 proba IV, en continuant l'analogie avec les matrices par bloc extraites \"\"\"\n",
    "    C_z = extrac_o_o(C, obs_index)\n",
    "    C_y = extrac_n_n(C, obs_index)\n",
    "    C_zy = extrac_o_n(C, obs_index)\n",
    "    return np.array([mu for i in range(len(C[0])-len(obs_index))]) + np.linalg.multi_dot([C_zy.T, np.linalg.inv(C_z), dept - np.array([mu for i in range(len(obs_index))])])"
   ]
  },
  {
   "cell_type": "code",
   "execution_count": 5,
   "metadata": {},
   "outputs": [
    {
     "name": "stdout",
     "output_type": "stream",
     "text": [
      "[ -0.81548436  -1.22322654  -1.52387489  -1.52387489  -1.93161707\n",
      "  -2.33935925  -2.6400076   -2.6400076   -3.04774978  -2.94065595\n",
      "  -3.34839813  -3.2413043   -3.2413043   -3.54195265  -3.43485882\n",
      "  -4.02063314  -4.02063314  -4.32128149  -4.21418766  -4.21418766\n",
      "  -4.32128149  -5.12124348  -5.12124348  -5.63607949  -5.74317332\n",
      "  -6.54313531  -6.54313531  -6.65022914  -7.3430973   -7.45019113\n",
      "  -8.14305928  -8.14305928  -8.94302127  -9.63588942  -9.92143355\n",
      "  -9.92143355 -10.72139553 -11.41426369 -11.41426369 -10.72139553\n",
      "  -9.62120335  -9.62120335  -9.03542903  -8.34256087  -7.24236869\n",
      "  -7.24236869  -6.54950053  -6.1421765   -5.44930835  -5.04198432\n",
      "  -5.04198432  -3.94179213  -3.5344681   -3.32216427  -3.32216427\n",
      "  -2.22197209  -1.81464806  -1.81464806  -2.22197209  -2.82431632\n",
      "  -2.82431632  -2.53877219  -2.94609622  -3.54844045  -3.54844045\n",
      "  -3.95576448  -4.15078468  -4.5581087   -4.7531289   -4.7531289\n",
      "  -5.35547313  -5.55049333  -5.31259518  -5.31259518  -5.91493941\n",
      "  -6.1099596   -6.1099596   -5.91493941  -5.28700086  -5.28700086\n",
      "  -5.49930469  -5.30428449  -4.67634594  -4.67634594  -4.48132574\n",
      "  -4.04840739  -3.8533872   -3.42046885  -3.42046885  -2.7925303\n",
      "  -2.35961195  -1.9266936   -1.9266936   -1.29875505  -0.8658367 ]\n"
     ]
    },
    {
     "data": {
      "image/png": "[encoded data removed]",
      "text/plain": [
       "<Figure size 432x288 with 1 Axes>"
      ]
     },
     "metadata": {
      "needs_background": "light"
     },
     "output_type": "display_data"
    }
   ],
   "source": [
    "C = np.array([[12 * np.exp(-5.0 * abs(i-j)/50) for j in range(101)] for i in range(101)])  \n",
    "obs_index = [0, 20, 40, 60, 80, 100]\n",
    "depth = np.array([0, -4, -12.8, -1, -6.5, 0])\n",
    "delta = 5\n",
    "CSy = schur_n(C, obs_index)\n",
    "mu = -5\n",
    "E_cond = E_condi(C, obs_index, mu, depth)\n",
    "print(E_cond)\n",
    "plt.plot([i for i in range(len(CSy[0]))], [Var_condi(CSy, i, obs_index) for i in range(len(CSy[0]))])\n",
    "\n",
    "\n",
    "\"\"\"à partir de tirage, on a un problème de positivité de la matrice, \n",
    "donc on prend C_ = np.identity(101) pour vérifier que ça marche\"\"\"\n",
    "C_ = np.identity(101)\n",
    "CSy_ = schur_n(C_, obs_index)\n",
    "E_cond_ = E_condi(C, obs_index, mu, depth)"
   ]
  },
  {
   "cell_type": "code",
   "execution_count": 6,
   "metadata": {},
   "outputs": [],
   "source": [
    "\"\"\"autre methode, étant donné qu'on n'obtient pas une matrice définie positive pour la première\"\"\"\n",
    "def mat_permut(C, obs_index):\n",
    "    L = [None for i in range(len(C))] ; j = 0 #j compte le nombre d'indices de obs_index déjà passés dans la boucle\n",
    "    for i in range(len(C)): \n",
    "        if i in obs_index :\n",
    "            L[i] = j + len(C)- len(obs_index)\n",
    "            j += 1\n",
    "        else : \n",
    "            L[i] = i-j\n",
    "    M = np.array([[0 for j in range(len(C))] for i in range(len(C))])\n",
    "    for i in range(len(C)):\n",
    "        M[i][L[i]] = 1\n",
    "    return M\n",
    "mat_permut(np.identity(4), [1])\n",
    "def extrac_o_o_new(Cpermut, obs_inde):\n",
    "    return np.array([[Cpermut[i][j] for j in range(len(Cpermut)-len(obs_inde), len(Cpermut))]for i in range(len(Cpermut)-len(obs_inde), len(Cpermut))])\n",
    "extrac_o_o_new(np.identity(3), [1, 2])\n",
    "def extrac_n_n_new(Cpermut, obs_inde):\n",
    "    return np.array([[Cpermut[i][j] for j in range(len(Cpermut))]for i in range(len(Cpermut))])\n",
    "def extrac_o_n_new(Cpermut, obs_inde):\n",
    "    return np.array([[Cpermut[i][j] for j in range(len(Cpermut))]for i in range(len(Cpermut)-len(obs_inde), len(Cpermut))])\n",
    "def schur_n_new(C, obs_index):\n",
    "    P = mat_permut(C, obs_index)\n",
    "    Cpermut = np.linalg.multi_dot([P, C, np.linalg.inv(P)])\n",
    "    C_z = extrac_o_o_new(Cpermut, obs_index)\n",
    "    C_y = extrac_n_n_new(Cpermut, obs_index)\n",
    "    C_zy = extrac_o_n_new(Cpermut, obs_index)\n",
    "    return C_y - np.linalg.multi_dot([C_zy.T, np.linalg.inv(C_z), C_zy])"
   ]
  },
  {
   "cell_type": "code",
   "execution_count": 7,
   "metadata": {},
   "outputs": [
    {
     "data": {
      "text/plain": [
       "[<matplotlib.lines.Line2D at 0x22b633f67f0>]"
      ]
     },
     "execution_count": 7,
     "metadata": {},
     "output_type": "execute_result"
    },
    {
     "data": {
      "image/png": "[encoded data removed]",
      "text/plain": [
       "<Figure size 432x288 with 1 Axes>"
      ]
     },
     "metadata": {
      "needs_background": "light"
     },
     "output_type": "display_data"
    }
   ],
   "source": [
    "CSy_new = schur_n_new(C, obs_index)\n",
    "plt.plot([i for i in range(len(CSy_new[0]))], [Var_condi(CSy_new, i, obs_index) for i in range(len(CSy_new[0]))])"
   ]
  },
  {
   "cell_type": "markdown",
   "metadata": {},
   "source": [
    "En tracant, on observe la periodicité de la variance en fonction de i, variance qui parait tendre vers 0 à chaque fois que l'on s'approche des indices observables. C'est parfaitement logique : plus le point est proche d'un point observable, plus on pourra estimer précisément sa profondeur et donc plus l'étalement probabiliste, et donc la variance, sera faible. "
   ]
  },
  {
   "cell_type": "code",
   "execution_count": 8,
   "metadata": {},
   "outputs": [],
   "source": [
    "\n",
    "def tirage(C, obs_index, E):\n",
    "    \"\"\"ici on écrit le programme qui permet de simuler le tirage conditionnel, grace aux questions 2 et 3, \n",
    "    on utilise notamment le fait qu'un vecteur aux composantes normales centrées réduites est normal centré réduit\"\"\"\n",
    "    CSy = schur_n(C, obs_index) # c'est la matrice de covariance de la loi conditionnelle\n",
    "    R = np.linalg.cholesky(CSy)\n",
    "    #simulation de la loi normale centrée réduite \n",
    "    U = np.array([rd.random() for i in range(len(C[0])-len(obs_index))])\n",
    "    V = np.array([rd.random() for i in range(len(C[0])-len(obs_index))])\n",
    "    norm = np.array([np.sqrt(-2 * np.log(U[i])) * np.cos(2 * np.pi * V[i]) for i in range(len(U))]) # le vecteur normal centré réduit\n",
    "    return E + R.dot(norm) #qui suit bien une loi gaussienne d'espérance E et de matrice de covariance C\n",
    "    "
   ]
  },
  {
   "cell_type": "code",
   "execution_count": 10,
   "metadata": {},
   "outputs": [
    {
     "name": "stdout",
     "output_type": "stream",
     "text": [
      "[ -1.21105783  -0.45645257  -1.97717365  -1.47447364  -0.71047897\n",
      "  -3.67323278  -4.1036151   -2.41299235  -3.76703623  -3.56753718\n",
      "  -1.42434978  -3.40791216  -1.65228436  -3.60781338  -4.261145\n",
      "  -4.82133351  -2.62980766  -3.12369974  -4.80675734  -4.56866612\n",
      "  -3.24464308  -4.03139297  -3.92871049  -5.97560405  -5.76754158\n",
      "  -4.27682399  -7.05872349  -5.41729157  -7.3392291   -8.00754573\n",
      "  -7.55365989  -9.54154627  -7.38046258  -9.55008674  -8.929953\n",
      "  -8.70971493  -7.73516028 -11.55356796 -11.27442713 -11.7020737\n",
      "  -7.11758134  -8.33379291  -9.2952143   -8.06168992  -8.68925\n",
      "  -5.72712429  -5.53176723  -6.39003833  -5.5568182   -6.12293331\n",
      "  -5.92437931  -2.90314744  -1.93593984  -1.82221745  -3.34328867\n",
      "  -3.14862497  -2.37591099  -0.94846012  -2.12613546  -4.22318095\n",
      "  -3.44290872  -2.17604063  -2.35019758  -0.8850933   -3.72033946\n",
      "  -4.61362953  -3.00960561  -4.74999098  -4.90284513  -5.87578624\n",
      "  -4.5250113   -6.18844739  -5.44515656  -4.42251493  -6.07380982\n",
      "  -5.55982184  -6.74216974  -4.92686503  -5.49252856  -5.28664119\n",
      "  -6.19576773  -6.25759499  -5.54676855  -5.9688902   -4.07033217\n",
      "  -3.14627755  -2.66776986  -1.12456136  -3.39979463  -3.33669482\n",
      "  -2.16232124  -1.20616859  -3.78805013   0.96886239  -1.62400625]\n"
     ]
    },
    {
     "ename": "LinAlgError",
     "evalue": "Matrix is not positive definite",
     "output_type": "error",
     "traceback": [
      "\u001b[1;31m---------------------------------------------------------------------------\u001b[0m",
      "\u001b[1;31mLinAlgError\u001b[0m                               Traceback (most recent call last)",
      "\u001b[1;32m<ipython-input-10-6e495f66df54>\u001b[0m in \u001b[0;36m<module>\u001b[1;34m\u001b[0m\n\u001b[0;32m      2\u001b[0m \u001b[0mZ_\u001b[0m \u001b[1;33m=\u001b[0m \u001b[0mtirage\u001b[0m\u001b[1;33m(\u001b[0m\u001b[0mC_\u001b[0m\u001b[1;33m,\u001b[0m \u001b[0mobs_index\u001b[0m\u001b[1;33m,\u001b[0m \u001b[0mE_cond_\u001b[0m\u001b[1;33m)\u001b[0m\u001b[1;33m\u001b[0m\u001b[1;33m\u001b[0m\u001b[0m\n\u001b[0;32m      3\u001b[0m \u001b[0mprint\u001b[0m\u001b[1;33m(\u001b[0m\u001b[0mZ_\u001b[0m\u001b[1;33m)\u001b[0m\u001b[1;33m\u001b[0m\u001b[1;33m\u001b[0m\u001b[0m\n\u001b[1;32m----> 4\u001b[1;33m \u001b[0mZ\u001b[0m \u001b[1;33m=\u001b[0m \u001b[0mtirage\u001b[0m\u001b[1;33m(\u001b[0m\u001b[0mC\u001b[0m\u001b[1;33m,\u001b[0m \u001b[0mobs_index\u001b[0m\u001b[1;33m,\u001b[0m \u001b[0mE_cond\u001b[0m\u001b[1;33m)\u001b[0m\u001b[1;33m\u001b[0m\u001b[1;33m\u001b[0m\u001b[0m\n\u001b[0m\u001b[0;32m      5\u001b[0m \"\"\"problème à régler ici, car avec cette forme de C, CSy n'est pas définie positive et on ne peut donc\n\u001b[0;32m      6\u001b[0m \u001b[0mpas\u001b[0m \u001b[0mlui\u001b[0m \u001b[0mappliquer\u001b[0m \u001b[0mla\u001b[0m \u001b[0mtransformation\u001b[0m \u001b[0mde\u001b[0m \u001b[0mcholesky\u001b[0m\u001b[1;33m.\u001b[0m \u001b[0mEn\u001b[0m \u001b[0mregardant\u001b[0m \u001b[0mles\u001b[0m \u001b[0mvaleurs\u001b[0m \u001b[0mpropres\u001b[0m \u001b[0mde\u001b[0m \u001b[0mla\u001b[0m \u001b[0mmatrice\u001b[0m \u001b[0mC\u001b[0m\u001b[1;33m,\u001b[0m \u001b[0mon\u001b[0m \u001b[0mobserve\u001b[0m\u001b[1;33m\u001b[0m\u001b[1;33m\u001b[0m\u001b[0m\n",
      "\u001b[1;32m<ipython-input-8-057f8f69e85d>\u001b[0m in \u001b[0;36mtirage\u001b[1;34m(C, obs_index, E)\u001b[0m\n\u001b[0;32m      3\u001b[0m     on utilise notamment le fait qu'un vecteur aux composantes normales centrées réduites est normal centré réduit\"\"\"\n\u001b[0;32m      4\u001b[0m     \u001b[0mCSy\u001b[0m \u001b[1;33m=\u001b[0m \u001b[0mschur_n\u001b[0m\u001b[1;33m(\u001b[0m\u001b[0mC\u001b[0m\u001b[1;33m,\u001b[0m \u001b[0mobs_index\u001b[0m\u001b[1;33m)\u001b[0m \u001b[1;31m# c'est la matrice de covariance de la loi conditionnelle\u001b[0m\u001b[1;33m\u001b[0m\u001b[1;33m\u001b[0m\u001b[0m\n\u001b[1;32m----> 5\u001b[1;33m     \u001b[0mR\u001b[0m \u001b[1;33m=\u001b[0m \u001b[0mnp\u001b[0m\u001b[1;33m.\u001b[0m\u001b[0mlinalg\u001b[0m\u001b[1;33m.\u001b[0m\u001b[0mcholesky\u001b[0m\u001b[1;33m(\u001b[0m\u001b[0mCSy\u001b[0m\u001b[1;33m)\u001b[0m\u001b[1;33m\u001b[0m\u001b[1;33m\u001b[0m\u001b[0m\n\u001b[0m\u001b[0;32m      6\u001b[0m     \u001b[1;31m#simulation de la loi normale centrée réduite\u001b[0m\u001b[1;33m\u001b[0m\u001b[1;33m\u001b[0m\u001b[1;33m\u001b[0m\u001b[0m\n\u001b[0;32m      7\u001b[0m     \u001b[0mU\u001b[0m \u001b[1;33m=\u001b[0m \u001b[0mnp\u001b[0m\u001b[1;33m.\u001b[0m\u001b[0marray\u001b[0m\u001b[1;33m(\u001b[0m\u001b[1;33m[\u001b[0m\u001b[0mrd\u001b[0m\u001b[1;33m.\u001b[0m\u001b[0mrandom\u001b[0m\u001b[1;33m(\u001b[0m\u001b[1;33m)\u001b[0m \u001b[1;32mfor\u001b[0m \u001b[0mi\u001b[0m \u001b[1;32min\u001b[0m \u001b[0mrange\u001b[0m\u001b[1;33m(\u001b[0m\u001b[0mlen\u001b[0m\u001b[1;33m(\u001b[0m\u001b[0mC\u001b[0m\u001b[1;33m[\u001b[0m\u001b[1;36m0\u001b[0m\u001b[1;33m]\u001b[0m\u001b[1;33m)\u001b[0m\u001b[1;33m-\u001b[0m\u001b[0mlen\u001b[0m\u001b[1;33m(\u001b[0m\u001b[0mobs_index\u001b[0m\u001b[1;33m)\u001b[0m\u001b[1;33m)\u001b[0m\u001b[1;33m]\u001b[0m\u001b[1;33m)\u001b[0m\u001b[1;33m\u001b[0m\u001b[1;33m\u001b[0m\u001b[0m\n",
      "\u001b[1;32m~\\Anaconda3bis\\lib\\site-packages\\numpy\\linalg\\linalg.py\u001b[0m in \u001b[0;36mcholesky\u001b[1;34m(a)\u001b[0m\n\u001b[0;32m    757\u001b[0m     \u001b[0mt\u001b[0m\u001b[1;33m,\u001b[0m \u001b[0mresult_t\u001b[0m \u001b[1;33m=\u001b[0m \u001b[0m_commonType\u001b[0m\u001b[1;33m(\u001b[0m\u001b[0ma\u001b[0m\u001b[1;33m)\u001b[0m\u001b[1;33m\u001b[0m\u001b[1;33m\u001b[0m\u001b[0m\n\u001b[0;32m    758\u001b[0m     \u001b[0msignature\u001b[0m \u001b[1;33m=\u001b[0m \u001b[1;34m'D->D'\u001b[0m \u001b[1;32mif\u001b[0m \u001b[0misComplexType\u001b[0m\u001b[1;33m(\u001b[0m\u001b[0mt\u001b[0m\u001b[1;33m)\u001b[0m \u001b[1;32melse\u001b[0m \u001b[1;34m'd->d'\u001b[0m\u001b[1;33m\u001b[0m\u001b[1;33m\u001b[0m\u001b[0m\n\u001b[1;32m--> 759\u001b[1;33m     \u001b[0mr\u001b[0m \u001b[1;33m=\u001b[0m \u001b[0mgufunc\u001b[0m\u001b[1;33m(\u001b[0m\u001b[0ma\u001b[0m\u001b[1;33m,\u001b[0m \u001b[0msignature\u001b[0m\u001b[1;33m=\u001b[0m\u001b[0msignature\u001b[0m\u001b[1;33m,\u001b[0m \u001b[0mextobj\u001b[0m\u001b[1;33m=\u001b[0m\u001b[0mextobj\u001b[0m\u001b[1;33m)\u001b[0m\u001b[1;33m\u001b[0m\u001b[1;33m\u001b[0m\u001b[0m\n\u001b[0m\u001b[0;32m    760\u001b[0m     \u001b[1;32mreturn\u001b[0m \u001b[0mwrap\u001b[0m\u001b[1;33m(\u001b[0m\u001b[0mr\u001b[0m\u001b[1;33m.\u001b[0m\u001b[0mastype\u001b[0m\u001b[1;33m(\u001b[0m\u001b[0mresult_t\u001b[0m\u001b[1;33m,\u001b[0m \u001b[0mcopy\u001b[0m\u001b[1;33m=\u001b[0m\u001b[1;32mFalse\u001b[0m\u001b[1;33m)\u001b[0m\u001b[1;33m)\u001b[0m\u001b[1;33m\u001b[0m\u001b[1;33m\u001b[0m\u001b[0m\n\u001b[0;32m    761\u001b[0m \u001b[1;33m\u001b[0m\u001b[0m\n",
      "\u001b[1;32m~\\Anaconda3bis\\lib\\site-packages\\numpy\\linalg\\linalg.py\u001b[0m in \u001b[0;36m_raise_linalgerror_nonposdef\u001b[1;34m(err, flag)\u001b[0m\n\u001b[0;32m     98\u001b[0m \u001b[1;33m\u001b[0m\u001b[0m\n\u001b[0;32m     99\u001b[0m \u001b[1;32mdef\u001b[0m \u001b[0m_raise_linalgerror_nonposdef\u001b[0m\u001b[1;33m(\u001b[0m\u001b[0merr\u001b[0m\u001b[1;33m,\u001b[0m \u001b[0mflag\u001b[0m\u001b[1;33m)\u001b[0m\u001b[1;33m:\u001b[0m\u001b[1;33m\u001b[0m\u001b[1;33m\u001b[0m\u001b[0m\n\u001b[1;32m--> 100\u001b[1;33m     \u001b[1;32mraise\u001b[0m \u001b[0mLinAlgError\u001b[0m\u001b[1;33m(\u001b[0m\u001b[1;34m\"Matrix is not positive definite\"\u001b[0m\u001b[1;33m)\u001b[0m\u001b[1;33m\u001b[0m\u001b[1;33m\u001b[0m\u001b[0m\n\u001b[0m\u001b[0;32m    101\u001b[0m \u001b[1;33m\u001b[0m\u001b[0m\n\u001b[0;32m    102\u001b[0m \u001b[1;32mdef\u001b[0m \u001b[0m_raise_linalgerror_eigenvalues_nonconvergence\u001b[0m\u001b[1;33m(\u001b[0m\u001b[0merr\u001b[0m\u001b[1;33m,\u001b[0m \u001b[0mflag\u001b[0m\u001b[1;33m)\u001b[0m\u001b[1;33m:\u001b[0m\u001b[1;33m\u001b[0m\u001b[1;33m\u001b[0m\u001b[0m\n",
      "\u001b[1;31mLinAlgError\u001b[0m: Matrix is not positive definite"
     ]
    }
   ],
   "source": [
    "\n",
    "\"\"\"on trace ensuite l'altitude en fonction de x\"\"\"\n",
    "Z_ = tirage(C_, obs_index, E_cond_)\n",
    "print(Z_)\n",
    "Z = tirage(C, obs_index, E_cond)\n",
    "\"\"\"problème à régler ici, car avec cette forme de C, CSy n'est pas définie positive et on ne peut donc\n",
    "pas lui appliquer la transformation de cholesky. En regardant les valeurs propres de la matrice C, on observe \n",
    "qu'elles sont toutes positives, et largement (souvent plus de 10), mais on a quelques vaps négatives (de l'ordre d'un dixième).\n",
    "On peut soupconner un problème avec les calculs d'arrondi étant donné qu'on manipule des cacluls d'exp etc...\"\"\"\n",
    "L = [z for z in Z]\n",
    "print(L)\n",
    "for i in range(len(obs_index)) : \n",
    "    L.insert(obs_index[i], depth[i])\n",
    "plt.plot([delta * i for i in range(101)], L)"
   ]
  },
  {
   "cell_type": "code",
   "execution_count": 11,
   "metadata": {},
   "outputs": [],
   "source": [
    "def longueur(Z, delt, obs_index, dept):\n",
    "    \"\"\"ici, on commence par créer le vecteur total à partir \n",
    "    du vecteur conditionnel simulé Z, qui ne décrit que les valeurs non observables obtenues sachant la valeur des observables.\"\"\"\n",
    "    l = 0 \n",
    "    Z_ = [z for z in Z]\n",
    "    for i in range(len(obs_index)) : \n",
    "        Z_.insert(obs_index[i], depth[i])\n",
    "    for i in range(len(Z_) - 1) : #ensuite on calcule la longueur totale à partir du vecteur d'altitude total\n",
    "        l += np.sqrt(delta ** 2 + (Z_[i+1] - Z_[i])**2)\n",
    "    return l\n",
    "\n",
    "def longueur_estimee(C, E, delt, obs_index, dept, n):\n",
    "    \"\"\"on fait une moyenne sur n valeurs\"\"\"\n",
    "    liste_l = [longueur(tirage(C, obs_index, E), delt, obs_index, dept) for i in range(n)]\n",
    "    s = 0\n",
    "    for l in liste_l : \n",
    "        s+= l\n",
    "    return s/n"
   ]
  },
  {
   "cell_type": "code",
   "execution_count": 12,
   "metadata": {},
   "outputs": [
    {
     "name": "stdout",
     "output_type": "stream",
     "text": [
      "520.4700918840985\n"
     ]
    },
    {
     "data": {
      "text/plain": [
       "[<matplotlib.lines.Line2D at 0x22b63525cc0>]"
      ]
     },
     "execution_count": 12,
     "metadata": {},
     "output_type": "execute_result"
    },
    {
     "data": {
      "image/png": "[encoded data removed]",
      "text/plain": [
       "<Figure size 432x288 with 1 Axes>"
      ]
     },
     "metadata": {
      "needs_background": "light"
     },
     "output_type": "display_data"
    }
   ],
   "source": [
    "print(longueur_estimee(C_, E_cond_, delta, obs_index, depth, 100))\n",
    "plt.plot([i for i in range(1, 100)], [longueur_estimee(C_, E_cond_, delta, obs_index, depth, i) for i in range(1, 100)])"
   ]
  },
  {
   "cell_type": "markdown",
   "metadata": {},
   "source": [
    "On observe sans grande surprise que la suite Mn converge lorsque n tend vers $+\\infty$ vers une valeur, qui est en réalité la longueur moyenne du cable. "
   ]
  },
  {
   "cell_type": "code",
   "execution_count": 13,
   "metadata": {},
   "outputs": [],
   "source": [
    "\"\"\"on doit trouver un intervalle encadrant la valeur du cable, tel que la probabilité qu'un tirage soit dans cet intervalle\n",
    "soit d'au moins 95 %\"\"\"\n",
    "def intervalle_conf_un(C, E_cond, delta, obs_index, depth, n = 100):\n",
    "    \"\"\"ici, on commence par estimer une moyenne, et ensuite on fait baisser diff pour que la probabilité pour\n",
    "    un essai d'être dans [L-diff, L + diff] soit juste au-dessus de 0.95\"\"\"\n",
    "    L = longueur_estimee(C, E_cond, delta, obs_index, depth, n)#ca serait la longueur moyenne\n",
    "    def proba(diff):\n",
    "        s = 0\n",
    "        for i in range(n):\n",
    "            if (L-diff <= longueur(tirage(C, obs_index, E_cond), delta, obs_index, depth) <= L+diff) : \n",
    "                s += 1\n",
    "        return s/n\n",
    "    diff = L #c'est l'essai d'intervalle de confiance initial\n",
    "    while proba(diff) >= 0.95 : #tant que l'on n'est pas inclu dans l'intervalle de confiance\n",
    "        diff/= 1.1\n",
    "    return (L-diff*2, L+diff*2)\n",
    "\n",
    "def intervalle_conf_deux(C, E_cond, delta, obs_index, depth, n = 100):\n",
    "    \"\"\"ici, on calcule directement l'intervalle de confiance avec une formule, après avoir estimé la moyenne ainsi que l'écart-type\n",
    "    sur l'échantillon\"\"\"\n",
    "    L = longueur_estimee(C, E_cond, delta, obs_index, depth, n)#moyenne\n",
    "    V = 0\n",
    "    for i in range(n):\n",
    "        V += (longueur(tirage(C, obs_index, E_cond), delta, obs_index, depth) - L) **2\n",
    "    sigma = np.sqrt(V/n)#ecart-type\n",
    "    return (L - 1.96 * sigma/np.sqrt(n), L + 1.96 * sigma/np.sqrt(n))\n",
    "\n",
    "def prob_depass(l_dep, C, E_cond, delta, obs_index, depth, n = 100):\n",
    "    \"\"\"ici, on fai juste n tirages et on regarde quelle proportion a dépassé 525, \n",
    "    on applique la loi des grands nombres à l'indicatrice de l>=525 et on obtient le résultat voulu\"\"\"\n",
    "    s = 0\n",
    "    for i in range(n):\n",
    "        if l_dep <= longueur(tirage(C, obs_index, E_cond), delta, obs_index, depth) : \n",
    "            s += 1\n",
    "    return s/n\n",
    "    "
   ]
  },
  {
   "cell_type": "code",
   "execution_count": 14,
   "metadata": {},
   "outputs": [
    {
     "name": "stdout",
     "output_type": "stream",
     "text": [
      "(509.035400565078, 532.6572219690651)\n",
      "(520.1580741688562, 521.3881415766883)\n",
      "0.09\n"
     ]
    }
   ],
   "source": [
    "print(intervalle_conf_un(C_, E_cond_, delta, obs_index, depth))\n",
    "\"\"\"ce premier calcul d'intervalle de confiance est assez peu précise, et pour cause :\n",
    "on réduit diff en le divisant à chaque fois par 1.1, ce qui est une forte diminution\n",
    "pour des valeurs de l'ordre de la dizaine comme dans notre cas\"\"\"\n",
    "print(intervalle_conf_deux(C_, E_cond_, delta, obs_index, depth))\n",
    "print(prob_depass(525, C_, E_cond_, delta, obs_index, depth))\n",
    "\"\"\"pour n=100 ou n=1000, il suffit de faire tourner ces programmes en changeant la valeur par défaut de n\"\"\""
   ]
  }
 ],
 "metadata": {
  "kernelspec": {
   "display_name": "Python 3",
   "language": "python",
   "name": "python3"
  },
  "language_info": {
   "codemirror_mode": {
    "name": "ipython",
    "version": 3
   },
   "file_extension": ".py",
   "mimetype": "text/x-python",
   "name": "python",
   "nbconvert_exporter": "python",
   "pygments_lexer": "ipython3",
   "version": "3.7.3"
  }
 },
 "nbformat": 4,
 "nbformat_minor": 2
}
