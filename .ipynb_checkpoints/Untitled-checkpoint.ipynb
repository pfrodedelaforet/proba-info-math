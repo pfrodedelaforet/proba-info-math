{
 "cells": [
  {
   "cell_type": "code",
   "execution_count": 30,
   "metadata": {},
   "outputs": [],
   "source": [
    "import numpy as np\n",
    "import matplotlib.pyplot as plt\n",
    "import scipy\n",
    "import random as rd\n"
   ]
  },
  {
   "cell_type": "code",
   "execution_count": 5,
   "metadata": {},
   "outputs": [
    {
     "data": {
      "text/plain": [
       "\"\\ndef simul(L, n) : #L est la liste des indices observés avec les valeurs correspondantes, on suppose trié par ordre croissant d'indice\\n    k = len(L)\\n    obs_index = [x[0] for x in L]\\n    def permut(i):\\n        if i <= n-k and i not in obs_index : \\n            return i \\n        elif i<=n-k and i in obs_index : \\n            return n - k + i + 1\\n        elif i >= n - k + 1 and i not in obs_index : \\n            return obs_index[-( n - i + 1)]\\n    for i\\n\\ndef gauss(x):\\n    return 1/((2*np.pi)**(len(x)/2)*det(f(C)))*np.exp(-0.5 *(x-moy_cond).T  )\\n        \\n    \""
      ]
     },
     "execution_count": 5,
     "metadata": {},
     "output_type": "execute_result"
    }
   ],
   "source": [
    "\"\"\"\n",
    "def simul(L, n) : #L est la liste des indices observés avec les valeurs correspondantes, on suppose trié par ordre croissant d'indice\n",
    "    k = len(L)\n",
    "    obs_index = [x[0] for x in L]\n",
    "    def permut(i):\n",
    "        if i <= n-k and i not in obs_index : \n",
    "            return i \n",
    "        elif i<=n-k and i in obs_index : \n",
    "            return n - k + i + 1\n",
    "        elif i >= n - k + 1 and i not in obs_index : \n",
    "            return obs_index[-( n - i + 1)]\n",
    "    for i\n",
    "\n",
    "def gauss(x):\n",
    "    return 1/((2*np.pi)**(len(x)/2)*det(f(C)))*np.exp(-0.5 *(x-moy_cond).T  )\n",
    "        \n",
    "    \"\"\""
   ]
  },
  {
   "cell_type": "markdown",
   "metadata": {},
   "source": [
    "question 1 : Il s'agit de la loi des grands nombres : elle stipule que si on prend n var $X_{i}$ iid, ayant toutes une espérance finie, alors si on note $S_{n}= \\frac{1}{n} * \\sum_{k=1}^{n} X_k$ alors $\\lim\\limits_{n \\rightarrow +\\infty} E(S_n) = E(X_1)$. Ici, Sn correspondrait à la moyenne empirique des simulations conditionnelles, et E(X1) correspondrait à L*.\n",
    "question 2 : Voir proba IV page 13-14, où le problème est traité pour le vecteur des Z_i dans lequel les n-k dernières valeurs sont connues. Pour se ramener à ce problème, il faut seulement permuter les éléments de manière à ce que nos éléments $z_{j_{1}}, ....z_{j_{n}}$ se retrouvent à la fin du vecteur.\n",
    "\n",
    "question 3 : à remplir quand on aura retrouvé la feuille mais en gros si on pose Z = m+ RY, avec Y qui suit la loi normale centrée réduite, alors Z suit la loi N(m, C) avec C = $R * transposée(R)$. \n",
    "\n",
    "Question 4 : Le but de l'algorithme est de simuler la longueur totale connaissant $z_{j_{1}}, ....z_{j_{n}}$. Pour cela, on commence par permuter les éléments du vecteur pour que $j_{1}, ..., j_{n}$ se retrouvent en derniers élements du vecteur, comme dans le cours. Pour cela on peut par exemple considérer qu'on étudie pour la suite Z' = $P_{\\sigma} * Z$ avec $\\sigma$ la permutation associée. Ensuite, on peut appliquer le résultat de la question 2 et la question 3 : si on note $Z'_{obs} et Z'_{pasobs}$ les sous-vecteurs associés, alors $Z'_{pasobs}$|$Z'_{obs}=Z_{obs_{0}}$ suit la loi Gaussienne d'espérance $m_{pasobs}$ + ...............\n",
    "Notons l'espérance $\\mu$, la matrice de covariance associée C. Pour simuler cette loi, on doit commencer par simuler une loi normale centrée réduite, grace à la proposition page 10 de proba V. Ensuite, on applique la question 3 : on calcule la transformée de Cholesky de C, qu'on appelle R, et on calcule $\\mu$+RZ'.\n",
    "Grace à tout ca on a réussi à simuler Z', il reste juste à multiplier par l'inverse de la matrice de permutation pour obtenir Z, et ensuite à calculer l = $\\sum_{k=1}^{p-1} \\sqrt{\\delta ^{2} + (Z[k+1]-Z[k])^{2}}$. Enfin, en réitérant un certain nombre de fois, la question 1 nous permet d'assurer une approximation de l'espérance L* de la longueur conditionnelle"
   ]
  },
  {
   "cell_type": "code",
   "execution_count": 6,
   "metadata": {},
   "outputs": [
    {
     "data": {
      "text/plain": [
       "array([[1.43306262, 1.43306262],\n",
       "       [1.02683424, 1.02683424]])"
      ]
     },
     "execution_count": 6,
     "metadata": {},
     "output_type": "execute_result"
    }
   ],
   "source": [
    "\"\"\"question 1 de la partie pratique\"\"\"\n",
    "def cov(dist, a, V):\n",
    "    if type(dist) == float:\n",
    "        return V * np.exp(-dist/a)\n",
    "    elif type(dist) == np.ndarray : \n",
    "        return np.array([[V * np.exp(-dist[i][j]/a)for j in range(len(dist))]for i in range(len(dist))])\n",
    "        \n",
    "cov(np.array([[1, 1], [2, 2]]), 3, 2)    "
   ]
  },
  {
   "cell_type": "markdown",
   "metadata": {},
   "source": [
    "Question 2 : Calculons la matrice de distance : M[i][j] = dist(|$x_{i}-x_{j}$|) = $|i-j| * \\delta$ , donc M = $\\delta  *(|i-j|)_{1<=i, j <= p}$\n",
    "Question 3 : Déduisons-en la matrice de covariance de notre problème : \n",
    "C = $V *(exp(-\\delta*\\frac{|i-j|}{a}))_{1<=i, j <= p}$"
   ]
  },
  {
   "cell_type": "code",
   "execution_count": 16,
   "metadata": {},
   "outputs": [],
   "source": [
    "\"\"\"En réalité, ici on ne procède pas exactement comme dans la réponse à la question 4, où l'on commencait par se ramener\n",
    "à un vecteur dont les dernières composantes sont les observables. Ici, on extrait directement les blocs de la matrice de \n",
    "covariance de Z, sans passer par l'étape intermédiaire de permutation : celle-ci est incluse dans le processus\"\"\"\n",
    "\n",
    "def extrac_o_o(C, obs_index):\n",
    "    \"\"\"correspond à CZ dans le cours, soit la sous-matrice en bas à droite de C\"\"\"\n",
    "    C_o = np.array([[0 for j in range(len(obs_index))]for i in range(len(obs_index))])\n",
    "    for i in range(len(obs_index)):\n",
    "        for j in range(len(obs_index)):\n",
    "            C_o[i][j] = C[obs_index[i]][obs_index[j]]\n",
    "    return C_o\n",
    "def extrac_n_n(C, obs_index):\n",
    "    \"\"\"on suppose obs_index trié dans l'ordre croissant, ca correspond à CY, soit la sous-matrice en haut à gauche de C\"\"\"\n",
    "    C_n = np.array([[0 for j in range(len(C)-len(obs_index))]for i in range(len(C)-len(obs_index))])\n",
    "    p = 0\n",
    "    q = 0\n",
    "    for i in range(len(C)):\n",
    "        for j in range(len(C)):\n",
    "            if j not in obs_index :\n",
    "                if i not in obs_index : \n",
    "                    C_n[p][q] = C[i][j]\n",
    "                q += 1    \n",
    "        if i not in obs_index : \n",
    "                p += 1\n",
    "        q = 0\n",
    "    return C_n\n",
    "def extrac_o_n(C, obs_index):\n",
    "    \"\"\"Ca correspond à Czy, soit la matrice en bas à gauche de C\"\"\"\n",
    "    C_o_n = C_n = np.array([[0 for j in range(len(C)-len(obs_index))]for i in range(len(obs_index))])\n",
    "    q = 0\n",
    "    for i in range(len(obs_index)):\n",
    "        for j in range(len(C)):\n",
    "            if j not in obs_index : \n",
    "                C_o_n[i][j-q] = C[obs_index[i]][j]\n",
    "            else : \n",
    "                q += 1\n",
    "        q = 0\n",
    "    return C_o_n"
   ]
  },
  {
   "cell_type": "code",
   "execution_count": 65,
   "metadata": {},
   "outputs": [],
   "source": [
    "\"\"\"question 5 il faut utiliser la question 2 théo et les questions précédentes\"\"\"\n",
    "def schur_n(C, obs_index):\n",
    "    \"\"\"C dépendant de |xi-xj| uniquement, elle est symétrique, donc besoin uniquement de 3 sous matrices\"\"\"\n",
    "    C_z = extrac_o_o(C, obs_index)\n",
    "    C_y = extrac_n_n(C, obs_index)\n",
    "    C_zy = extrac_o_n(C, obs_index)\n",
    "    return C_y - np.linalg.multi_dot([C_zy.T, np.linalg.inv(C_z), C_zy])\n",
    "\n",
    "def C_non_cond(C, obs_index):\n",
    "    invCSy = np.linalg.inv(schur_n(C, obs_index))\n",
    "    C_o = extrac_o_o(C, obs_index)\n",
    "    C_n = extrac_n_n(C, obs_index)\n",
    "    C_o_n = extrac_o_n(C, obs_index)\n",
    "    return np.linalg.inv(np.block([[invCSy,np.linalg.multi_dot([-invCSy, C_o_n.T, np.linalg.inv(C_o)])], \n",
    "                                   [np.linalg.multi_dot([-np.linalg.inv(C_o), C_o_n, invCSy]), np.linalg.inv(C_o) + np.linalg.multi_dot([np.linalg.inv(C_o), C_o_n, invCSy, C_o_n.T, np.linalg.inv(C_o)])]]))\n",
    "def Var_condi(Ccond, i, obs_index):\n",
    "    \"\"\"i est l'indice de notre position dans Z et non Z', on commence donc par\n",
    "    calculer la position i_ qu'a i sur la diagonale de la matrice conditionnelle.\"\"\"\n",
    "    i_ = 0\n",
    "    for j in range(i):\n",
    "        if j not in obs_index : \n",
    "            i_ += 1 \n",
    "    return Ccond[i_][i_]\n",
    "def E_condi(C, obs_index, mu, dept):\n",
    "    C_z = extrac_o_o(C, obs_index)\n",
    "    C_y = extrac_n_n(C, obs_index)\n",
    "    C_zy = extrac_o_n(C, obs_index)\n",
    "    return np.array([mu for i in range(len(C[0])-len(obs_index))]) + np.linalg.multi_dot([C_zy.T, np.linalg.inv(C_z), dept - np.array([mu for i in range(len(obs_index))])])"
   ]
  },
  {
   "cell_type": "code",
   "execution_count": 117,
   "metadata": {},
   "outputs": [
    {
     "name": "stdout",
     "output_type": "stream",
     "text": [
      "(101,)\n",
      "[1. 1. 1. 1. 1. 1. 1. 1. 1. 1. 1. 1. 1. 1. 1. 1. 1. 1. 1. 1. 1. 1. 1. 1.\n",
      " 1. 1. 1. 1. 1. 1. 1. 1. 1. 1. 1. 1. 1. 1. 1. 1. 1. 1. 1. 1. 1. 1. 1. 1.\n",
      " 1. 1. 1. 1. 1. 1. 1. 1. 1. 1. 1. 1. 1. 1. 1. 1. 1. 1. 1. 1. 1. 1. 1. 1.\n",
      " 1. 1. 1. 1. 1. 1. 1. 1. 1. 1. 1. 1. 1. 1. 1. 1. 1. 1. 1. 1. 1. 1. 1.]\n"
     ]
    },
    {
     "data": {
      "text/plain": [
       "[<matplotlib.lines.Line2D at 0x1a58db18320>]"
      ]
     },
     "execution_count": 117,
     "metadata": {},
     "output_type": "execute_result"
    },
    {
     "data": {
      "image/png": "[encoded data removed]",
      "text/plain": [
       "<Figure size 432x288 with 1 Axes>"
      ]
     },
     "metadata": {
      "needs_background": "light"
     },
     "output_type": "display_data"
    }
   ],
   "source": [
    "\"\"\"C = np.array([[12 * np.exp(-5.0 * abs(i-j)/50) for j in range(101)] for i in range(101)]) : \n",
    "problème à régler ici, car avec cette forme de C, CSy n'est pas définie positive et on ne peut donc\n",
    "pas lui appliquer la transformation de cholesky, on choisit donc de prendre la matrice identitée pour \n",
    "pouvoir appliquer les fonctions par la suite\"\"\"\n",
    "C = np.identity(101)\n",
    "obs_index = [0, 20, 40, 60, 80, 100]\n",
    "depth = np.array([0, -4, -12.8, -1, -6.5, 0])\n",
    "delta = 5\n",
    "CSy = schur_n(C, obs_index)\n",
    "V = Var_condi(CSy, 20, obs_index)\n",
    "mu = -5\n",
    "E_cond = E_condi(C, obs_index, mu, depth)\n",
    "#print([Var_condi(CSy, i, obs_index) for i in range(len(CSy[0]))])\n",
    "print(np.linalg.eig(CSy)[0])\n",
    "plt.plot([i for i in range(len(CSy[0]))], [Var_condi(CSy, i, obs_index) for i in range(len(CSy[0]))])\n"
   ]
  },
  {
   "cell_type": "markdown",
   "metadata": {},
   "source": [
    "En tracant, on observe la periodicité de la variance en fonction de i, variance qui parait tendre vers 0 à chaque fois que l'on s'approche des indices observables. C'est parfaitement logique : plus le point est proche d'un point observable, plus on pourra estimer précisément sa profondeur et donc plus l'étalement probabiliste, et donc la variance, sera faible. "
   ]
  },
  {
   "cell_type": "code",
   "execution_count": 104,
   "metadata": {},
   "outputs": [],
   "source": [
    "\n",
    "def tirage(C, obs_index, E):\n",
    "    \"\"\"ici on écrit le programme qui permet de simuler le tirage conditionnel, grace aux questions 2 et 3, \n",
    "    on utilise notamment le fait qu'un vecteur aux composantes normales centrées réduites est normal centré réduit\"\"\"\n",
    "    CSy = schur_n(C, obs_index) # c'est la matrice de covariance de la loi conditionnelle\n",
    "    R = np.linalg.cholesky(CSy)\n",
    "    #on simule une loi normale centrée réduite \n",
    "    U = np.array([rd.random() for i in range(len(C[0])-len(obs_index))])\n",
    "    V = np.array([rd.random() for i in range(len(C[0])-len(obs_index))])\n",
    "    norm = np.array([np.sqrt(-2 * np.log(U[i])) * np.cos(2 * np.pi * V[i]) for i in range(len(U))]) # le vecteur normal centré réduit\n",
    "    return E + R.dot(norm) #qui suit bien une loi gaussienne d'espérance E et de matrice de covariance C\n",
    "    "
   ]
  },
  {
   "cell_type": "code",
   "execution_count": 105,
   "metadata": {},
   "outputs": [
    {
     "name": "stdout",
     "output_type": "stream",
     "text": [
      "(95,)\n",
      "[-4.686676943286942, -5.6052040971263875, -4.160411834432709, -4.886975506771134, -4.112476549506267, -6.212514469531362, -5.940413836123007, -5.052478070714824, -3.4903486600046674, -4.463673484304156, -5.419338690771086, -4.510052483085394, -5.975649209336908, -3.496798618309433, -5.306578368806957, -4.227173078380543, -5.324070384657531, -4.979434063071619, -5.259183355323095, -5.692160574333486, -5.20949421398802, -5.435099876921321, -5.418569702759076, -5.6841100660422725, -4.599455702240896, -5.667494276403649, -5.58662309455594, -4.515526299457399, -3.9463714169041584, -3.579605875062794, -3.390502976899832, -6.7438071877022985, -4.869845182315414, -3.8564160023402736, -6.097637530529701, -4.490393285724576, -6.92956234467175, -4.001591274849954, -5.303676280479838, -4.212902850843333, -5.829311987313645, -4.539524082930437, -6.625854443717277, -5.708813836240296, -4.541016127841334, -6.924627176890501, -3.6271405627190605, -3.2016789959308007, -4.999218722613928, -3.790223174864571, -4.991287020639511, -6.406548504868455, -4.6323692565900005, -5.803661101300847, -5.928841581194275, -6.533094365775278, -6.070360892952783, -4.84131435259264, -4.525730972297303, -4.227889450607549, -6.207172226474347, -5.896782189543776, -5.402116433030989, -4.652073312477408, -3.3832331916406675, -5.47066553487898, -6.9914146984213215, -4.248857302255131, -3.931938678990147, -4.070043946542161, -4.902653896035706, -7.0445268858785735, -5.182248893663713, -5.376428253381342, -5.508223853723049, -4.388467475136185, -5.548909199435553, -5.958049358680687, -5.966837565503381, -6.116575647415805, -5.17831935776618, -5.403406002735405, -6.619032839751338, -7.550297256826257, -3.784296381403845, -5.551352495027418, -4.364749397123273, -4.6557099713730254, -5.71217268818769, -5.090945365303304, -5.440343739323111, -3.6223246342909032, -5.449242329590253, -4.945978886602623, -3.733296813359785]\n"
     ]
    },
    {
     "data": {
      "text/plain": [
       "[<matplotlib.lines.Line2D at 0x1a58db72748>]"
      ]
     },
     "execution_count": 105,
     "metadata": {},
     "output_type": "execute_result"
    },
    {
     "data": {
      "image/png": "[encoded data removed]",
      "text/plain": [
       "<Figure size 432x288 with 1 Axes>"
      ]
     },
     "metadata": {
      "needs_background": "light"
     },
     "output_type": "display_data"
    }
   ],
   "source": [
    "\"\"\"on trace ensuite l'altitude en fonction de x\"\"\"\n",
    "Z = tirage(C, obs_index, E_cond)\n",
    "print(Z.shape)\n",
    "L = [z for z in Z]\n",
    "print(L)\n",
    "for i in range(len(obs_index)) : \n",
    "    L.insert(obs_index[i], depth[i])\n",
    "plt.plot([delta * i for i in range(101)], L)"
   ]
  },
  {
   "cell_type": "code",
   "execution_count": 114,
   "metadata": {},
   "outputs": [],
   "source": [
    "def longueur(Z, delt, obs_index, dept):\n",
    "    \"\"\"ici, on commence par créer le vecteur total à partir \n",
    "    du vecteur conditionnel simulé Z, qui ne décrit que les valeurs observables\"\"\"\n",
    "    l = 0 \n",
    "    Z_ = [z for z in Z]\n",
    "    for i in range(len(obs_index)) : \n",
    "        Z_.insert(obs_index[i], depth[i])\n",
    "    for i in range(len(Z_) - 1) : \n",
    "        l += np.sqrt(delta ** 2 + (Z_[i+1] - Z_[i])**2)\n",
    "    return l\n",
    "\n",
    "def longueur_estimee(C, E, delt, obs_index, dept, n):\n",
    "    liste_l = [longueur(tirage(C, obs_index, E), delt, obs_index, dept) for i in range(n)]\n",
    "    s = 0\n",
    "    for l in liste_l : \n",
    "        s+= l\n",
    "    return s/n"
   ]
  },
  {
   "cell_type": "code",
   "execution_count": 115,
   "metadata": {},
   "outputs": [
    {
     "data": {
      "text/plain": [
       "[<matplotlib.lines.Line2D at 0x1a58dbdbac8>]"
      ]
     },
     "execution_count": 115,
     "metadata": {},
     "output_type": "execute_result"
    },
    {
     "data": {
      "image/png": "[encoded data removed]",
      "text/plain": [
       "<Figure size 432x288 with 1 Axes>"
      ]
     },
     "metadata": {
      "needs_background": "light"
     },
     "output_type": "display_data"
    }
   ],
   "source": [
    "print(longueur_estimee(C, E_cond, delta, obs_index, depth, 100))\n",
    "plt.plot([i for i in range(1, 100)], [longueur_estimee(C, E_cond, delta, obs_index, depth, i) for i in range(1, 100)])"
   ]
  },
  {
   "cell_type": "markdown",
   "metadata": {},
   "source": [
    "On observe sans grande surprise que la suite Mn converge lorsque n tend vers $+\\infty$ vers une valeur, qui est en réalité la longueur moyenne du cable. "
   ]
  },
  {
   "cell_type": "code",
   "execution_count": 129,
   "metadata": {},
   "outputs": [],
   "source": [
    "\"\"\"on doit trouver un intervalle encadrant la valeur du cable, tel que la probabilité qu'un tirage soit dans cet intervalle\n",
    "soit d'au moins 95 %\"\"\"\n",
    "def intervalle_conf_un(C, E_cond, delta, obs_index, depth, n = 100):\n",
    "    \"\"\"ici, on commence par estimer une moyenne, et ensuite on fait baisser diff pour que la probabilité pour\n",
    "    un essai d'être dans [L-diff, L + diff] soit juste au-dessus de 0.95\"\"\"\n",
    "    L = longueur_estimee(C, E_cond, delta, obs_index, depth, n)#ca serait la longueur moyenne\n",
    "    def proba(diff):\n",
    "        s = 0\n",
    "        for i in range(n):\n",
    "            if (L-diff <= longueur(tirage(C, obs_index, E_cond), delta, obs_index, depth) <= L+diff) : \n",
    "                s += 1\n",
    "        return s/n\n",
    "    diff = L #c'est l'essai d'intervalle de confiance initial\n",
    "    while proba(diff) >= 0.95 : \n",
    "        diff/= 2\n",
    "    return (L-diff*2, L+diff*2)\n",
    "\n",
    "def intervalle_conf_deux(C, E_cond, delta, obs_index, depth, n = 100):\n",
    "    \"\"\"ici, on calcule directement l'intervalle de confiance avec une formule, après avoir estimé la moyenne ainsi que l'écart-type\n",
    "    sur l'échantillon\"\"\"\n",
    "    L = longueur_estimee(C, E_cond, delta, obs_index, depth, n)\n",
    "    V = 0\n",
    "    for i in range(n):\n",
    "        V += (longueur(tirage(C, obs_index, E_cond), delta, obs_index, depth) - L) **2\n",
    "    sigma = np.sqrt(V/n)\n",
    "    return (L - 1.96 * sigma/np.sqrt(n), L + 1.96 * sigma/np.sqrt(n))\n",
    "\n",
    "def prob_depass(l_dep, C, E_cond, delta, obs_index, depth, n = 100):\n",
    "    s = 0\n",
    "    for i in range(n):\n",
    "        if l_dep <= longueur(tirage(C, obs_index, E_cond), delta, obs_index, depth) : \n",
    "            s += 1\n",
    "    return s/n\n",
    "    "
   ]
  },
  {
   "cell_type": "code",
   "execution_count": 130,
   "metadata": {},
   "outputs": [
    {
     "name": "stdout",
     "output_type": "stream",
     "text": [
      "(526.003644326252, 542.7021727175616)\n",
      "(533.3821977373464, 534.6612544000086)\n",
      "0.99\n"
     ]
    }
   ],
   "source": [
    "print(intervalle_conf_un(C, E_cond, delta, obs_index, depth))\n",
    "print(intervalle_conf_deux(C, E_cond, delta, obs_index, depth))\n",
    "print(prob_depass(525, C, E_cond, delta, obs_index, depth))"
   ]
  }
 ],
 "metadata": {
  "kernelspec": {
   "display_name": "Python 3",
   "language": "python",
   "name": "python3"
  },
  "language_info": {
   "codemirror_mode": {
    "name": "ipython",
    "version": 3
   },
   "file_extension": ".py",
   "mimetype": "text/x-python",
   "name": "python",
   "nbconvert_exporter": "python",
   "pygments_lexer": "ipython3",
   "version": "3.7.3"
  }
 },
 "nbformat": 4,
 "nbformat_minor": 2
}
