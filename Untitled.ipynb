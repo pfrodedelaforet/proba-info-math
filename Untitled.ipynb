{
 "cells": [
  {
   "cell_type": "code",
   "execution_count": 23,
   "metadata": {},
   "outputs": [],
   "source": [
    "import numpy as np\n",
    "import matplotlib.pyplot as plt"
   ]
  },
  {
   "cell_type": "code",
   "execution_count": 12,
   "metadata": {},
   "outputs": [
    {
     "data": {
      "text/plain": [
       "\"\\ndef simul(L, n) : #L est la liste des indices observés avec les valeurs correspondantes, on suppose trié par ordre croissant d'indice\\n    k = len(L)\\n    obs_index = [x[0] for x in L]\\n    def permut(i):\\n        if i <= n-k and i not in obs_index : \\n            return i \\n        elif i<=n-k and i in obs_index : \\n            return n - k + i + 1\\n        elif i >= n - k + 1 and i not in obs_index : \\n            return obs_index[-( n - i + 1)]\\n    for i\\n\\ndef gauss(x):\\n    return 1/((2*np.pi)**(len(x)/2)*det(f(C)))*np.exp(-0.5 *(x-moy_cond).T  )\\n        \\n    \""
      ]
     },
     "execution_count": 12,
     "metadata": {},
     "output_type": "execute_result"
    }
   ],
   "source": [
    "\"\"\"\n",
    "def simul(L, n) : #L est la liste des indices observés avec les valeurs correspondantes, on suppose trié par ordre croissant d'indice\n",
    "    k = len(L)\n",
    "    obs_index = [x[0] for x in L]\n",
    "    def permut(i):\n",
    "        if i <= n-k and i not in obs_index : \n",
    "            return i \n",
    "        elif i<=n-k and i in obs_index : \n",
    "            return n - k + i + 1\n",
    "        elif i >= n - k + 1 and i not in obs_index : \n",
    "            return obs_index[-( n - i + 1)]\n",
    "    for i\n",
    "\n",
    "def gauss(x):\n",
    "    return 1/((2*np.pi)**(len(x)/2)*det(f(C)))*np.exp(-0.5 *(x-moy_cond).T  )\n",
    "        \n",
    "    \"\"\""
   ]
  },
  {
   "cell_type": "markdown",
   "metadata": {},
   "source": [
    "question 1 : Il s'agit de la loi des grands nombres : elle stipule que si on prend n var $X_{i}$ iid, ayant toutes une espérance finie, alors si on note $S_{n}= \\frac{1}{n} * \\sum_{k=1}^{n} X_k$ alors $\\lim\\limits_{n \\rightarrow +\\infty} E(S_n) = E(X_1)$. Ici, Sn correspondrait à la moyenne empirique des simulations conditionnelles, et E(X1) correspondrait à L*.\n",
    "question 2 : Voir proba IV page 13-14, où le problème est traité pour le vecteur des Z_i dans lequel les n-k dernières valeurs sont connues. Pour se ramener à ce problème, il faut seulement permuter les éléments de manière à ce que nos éléments $z_{j_{1}}, ....z_{j_{n}}$ se retrouvent à la fin du vecteur.\n",
    "\n",
    "question 3 : à remplir quand on aura retrouvé la feuille mais en gros si on pose Z = m+ RY, avec Y qui suit la loi normale centrée réduite, alors Z suit la loi N(m, C) avec C = $R * transposée(R)$. \n",
    "\n",
    "Question 4 : Le but de l'algorithme est de simuler la longueur totale connaissant $z_{j_{1}}, ....z_{j_{n}}$. Pour cela, on commence par permuter les éléments du vecteur pour que $j_{1}, ..., j_{n}$ se retrouvent en derniers élements du vecteur, comme dans le cours. Pour cela on peut par exemple considérer qu'on étudie pour la suite Z' = $P_{\\sigma} * Z$ avec $\\sigma$ la permutation associée. Ensuite, on peut appliquer le résultat de la question 2 et la question 3 : si on note $Z'_{obs} et Z'_{pasobs}$ les sous-vecteurs associés, alors $Z'_{pasobs}$|$Z'_{obs}=Z_{obs_{0}}$ suit la loi Gaussienne d'espérance $m_{pasobs}$ + ...............\n",
    "Notons l'espérance $\\mu$, la matrice de covariance associée C. Pour simuler cette loi, on doit commencer par simuler une loi normale centrée réduite. Ensuite, on applique la question 3 : on calcule la transposée de la racine de C, qu'on appelle R, et on calcule $\\mu$+RZ'.\n",
    "Grace à tout ca on a réussi à simuler Z', il reste juste à multiplier par l'inverse de la matrice de permutation pour obtenir Z, et ensuite à calculer l = $\\sum_{k=1}^{p-1} \\sqrt{\\delta ^{2} + (Z[k+1]-Z[k])^{2}}$. Enfin, en réitérant un certain nombre de fois, la question 1 nous permet d'assurer une approximation de l'espérance L* de la longueur conditionnelle\n",
    "Dans l'algorithme, la question 3 permet de savoir calculer n'importe quelle loi gaussienne de matrice de cov définie positive à partir de la loi normale centrée réduite. Il faut juste trouver la racine de la matrice de covariance. La question 2 permet de trouver la loi que suit Z, mais pas de la simuler"
   ]
  },
  {
   "cell_type": "code",
   "execution_count": 13,
   "metadata": {},
   "outputs": [
    {
     "data": {
      "text/plain": [
       "array([[1.43306262, 1.43306262],\n",
       "       [1.02683424, 1.02683424]])"
      ]
     },
     "execution_count": 13,
     "metadata": {},
     "output_type": "execute_result"
    }
   ],
   "source": [
    "\"\"\"question 1 de la partie pratique\"\"\"\n",
    "def cov(dist, a, V):\n",
    "    if type(dist) == float:\n",
    "        return V * np.exp(-dist/a)\n",
    "    elif type(dist) == np.ndarray : \n",
    "        return np.array([[V * np.exp(-dist[i][j]/a)for j in range(len(dist))]for i in range(len(dist))])\n",
    "        \n",
    "cov(np.array([[1, 1], [2, 2]]), 3, 2)    "
   ]
  },
  {
   "cell_type": "markdown",
   "metadata": {},
   "source": [
    "Question 2 : Calculons la matrice de distance : M[i][j] = dist(|$x_{i}-x_{j}$|) = $|i-j| * \\delta$ , donc M = $\\delta  *(|i-j|)_{1<=i, j <= p}$\n",
    "Question 3 : Déduisons-en la matrice de covariance de notre problème : \n",
    "C = $V *(exp(-\\delta*\\frac{|i-j|}{a}))_{1<=i, j <= p}$"
   ]
  },
  {
   "cell_type": "code",
   "execution_count": 14,
   "metadata": {},
   "outputs": [],
   "source": [
    "\"\"\"En réalité, ici on ne procède pas exactement comme dans la réponse à la question 4, où l'on commencait par se ramener\n",
    "à un vecteur dont les dernières composantes sont les observables. Ici, on extrait directement les blocs de la matrice de \n",
    "covariance de Z, sans passer par l'étape intermédiaire de permutation : celle-ci est incluse dans le processus\"\"\"\n",
    "\n",
    "def extrac_o_o(C, obs_index):#correspond à Z\n",
    "    C_o = np.array([[0 for j in range(len(obs_index))]for i in range(len(obs_index))])\n",
    "    for i in range(len(obs_index)):\n",
    "        for j in range(len(obs_index)):\n",
    "            C_o[i][j] = C[obs_index[i]][obs_index[j]]\n",
    "    return C_o\n",
    "def extrac_n_n(C, obs_index):#on suppose obs_index trié dans l'ordre croissant, ca correspond à Y\n",
    "    C_n = np.array([[0 for j in range(len(C)-len(obs_index))]for i in range(len(C)-len(obs_index))])\n",
    "    p = 0\n",
    "    q = 0\n",
    "    for i in range(len(C)):\n",
    "        if i in obs_index : \n",
    "            p += 1\n",
    "        for j in range(len(C)):\n",
    "            if i not in obs_index and j not in obs_index : \n",
    "                C_n[i-p][j-q] = C[i][j]\n",
    "            elif j in obs_index : \n",
    "                q += 1\n",
    "        q = 0\n",
    "    return C_n\n",
    "def extrac_o_n(C, obs_index):\n",
    "    C_o_n = C_n = np.array([[0 for j in range(len(C)-len(obs_index))]for i in range(len(obs_index))])\n",
    "    q = 0\n",
    "    for i in range(len(obs_index)):\n",
    "        for j in range(len(C)):\n",
    "            if j not in obs_index : \n",
    "                C_o_n[i][j-q] = C[i][j]\n",
    "            else : \n",
    "                q += 1\n",
    "        q = 0\n",
    "    return C_o_n"
   ]
  },
  {
   "cell_type": "code",
   "execution_count": 17,
   "metadata": {},
   "outputs": [],
   "source": [
    "\"\"\"question 5 il faut utiliser la question 2 théo et les questions précédentes\"\"\"\n",
    "def schur_n(C, obs_index):#C dépendant de |xi-xj| uniquement, elle est symétrique, donc besoin uniquement de 3 sous matrices\n",
    "    C_o = extrac_o_o(C, obs_index)\n",
    "    C_n = extrac_n_n(C, obs_index)\n",
    "    C_o_n = extrac_o_n(C, obs_index)\n",
    "    return C_n - C_o_n.T.dot(np.linalg.inv(C_o)).dot(C_o_n)\n",
    "def C_condi(C, obs_index):\n",
    "    invCSy = np.linalg.inv(schur_n(C, obs_index))\n",
    "    C_o = extrac_o_o(C, obs_index)\n",
    "    C_n = extrac_n_n(C, obs_index)\n",
    "    C_o_n = extrac_o_n(C, obs_index)\n",
    "    return np.linalg.inv(np.block([[invCSy,np.linalg.multi_dot([-invCSy, C_o_n.T, np.linalg.inv(C_o)])], \n",
    "                                   [np.linalg.multi_dot([-np.linalg.inv(C_o), C_o_n, invCSy]), np.linalg.inv(C_o) + np.linalg.multi_dot([np.linalg.inv(C_o), C_o_n, invCSy, C_o_n.T, np.linalg.inv(C_o)])]]))\n",
    "def Var_condi(Ccond, i, obs_index):\n",
    "    \"\"\"i est l'indice de notre position dans Z et non Z', on commence donc par\n",
    "    calculer la position i_ qu'a i sur la diagonale de la matrice conditionnelle.\"\"\"\n",
    "    i_ = 0\n",
    "    if i in obs_index : \n",
    "        for j in range(i):\n",
    "            if j in obs_index : \n",
    "                i_ += 1\n",
    "    else : \n",
    "        for j in range(i):\n",
    "            if j not in obs_index : \n",
    "                i_ += 1 \n",
    "    print(i_)\n",
    "    return Ccond[i_][i_]"
   ]
  },
  {
   "cell_type": "code",
   "execution_count": 26,
   "metadata": {},
   "outputs": [
    {
     "name": "stdout",
     "output_type": "stream",
     "text": [
      "0\n",
      "12.000000000001236\n",
      "[[ 1.20000000e+01  1.00000000e+01  9.00000000e+00 ...  9.00000000e+00\n",
      "   8.00000000e+00  8.00000000e+00]\n",
      " [ 1.00000000e+01  1.20000000e+01  1.00000000e+01 ...  1.00000000e+01\n",
      "   9.00000000e+00  8.00000000e+00]\n",
      " [ 9.00000000e+00  1.00000000e+01  1.20000000e+01 ...  1.20000000e+01\n",
      "   1.00000000e+01  9.00000000e+00]\n",
      " ...\n",
      " [ 9.00000000e+00  1.00000000e+01  1.20000000e+01 ...  1.20000000e+01\n",
      "   1.00000000e+00 -4.64722670e-12]\n",
      " [ 8.00000000e+00  9.00000000e+00  1.00000000e+01 ...  1.00000000e+00\n",
      "   1.20000000e+01  1.00000000e+00]\n",
      " [ 8.00000000e+00  8.00000000e+00  9.00000000e+00 ...  1.13242749e-13\n",
      "   1.00000000e+00  1.20000000e+01]]\n",
      "0\n",
      "0\n",
      "1\n",
      "2\n",
      "3\n",
      "4\n",
      "5\n",
      "6\n",
      "7\n",
      "8\n",
      "9\n",
      "10\n",
      "11\n",
      "12\n",
      "13\n",
      "14\n",
      "15\n",
      "16\n",
      "17\n",
      "18\n",
      "1\n",
      "19\n",
      "20\n",
      "21\n",
      "22\n",
      "23\n",
      "24\n",
      "25\n",
      "26\n",
      "27\n",
      "28\n",
      "29\n",
      "30\n",
      "31\n",
      "32\n",
      "33\n",
      "34\n",
      "35\n",
      "36\n",
      "37\n",
      "2\n",
      "38\n",
      "39\n",
      "40\n",
      "41\n",
      "42\n",
      "43\n",
      "44\n",
      "45\n",
      "46\n",
      "47\n",
      "48\n",
      "49\n",
      "50\n",
      "51\n",
      "52\n",
      "53\n",
      "54\n",
      "55\n",
      "56\n",
      "3\n",
      "57\n",
      "58\n",
      "59\n",
      "60\n",
      "61\n",
      "62\n",
      "63\n",
      "64\n",
      "65\n",
      "66\n",
      "67\n",
      "68\n",
      "69\n",
      "70\n",
      "71\n",
      "72\n",
      "73\n",
      "74\n",
      "75\n",
      "4\n",
      "76\n",
      "77\n",
      "78\n",
      "79\n",
      "80\n",
      "81\n",
      "82\n",
      "83\n",
      "84\n",
      "85\n",
      "86\n",
      "87\n",
      "88\n",
      "89\n",
      "90\n",
      "91\n",
      "92\n",
      "93\n",
      "94\n",
      "5\n"
     ]
    },
    {
     "data": {
      "text/plain": [
       "[<matplotlib.lines.Line2D at 0x15e528215f8>]"
      ]
     },
     "execution_count": 26,
     "metadata": {},
     "output_type": "execute_result"
    },
    {
     "data": {
      "image/png": "[encoded data removed]",
      "text/plain": [
       "<Figure size 432x288 with 1 Axes>"
      ]
     },
     "metadata": {
      "needs_background": "light"
     },
     "output_type": "display_data"
    }
   ],
   "source": [
    "C = np.array([[12 * np.exp(-5.0 * abs(i-j)/50) for j in range(101)] for i in range(101)])\n",
    "obs_index = [0, 20, 40, 60, 80, 100]\n",
    "depth = np.array([0, -4, -12, 8, -1, -6, 5, 0])\n",
    "CSy = schur_n(C, obs_index)\n",
    "C_cond = C_condi(C, obs_index)\n",
    "V = Var_condi(C_cond, 1, obs_index)\n",
    "print(V)\n",
    "print(C_cond)\n",
    "plt.plot([i for i in range(len(C_cond[0]))], [Var_condi(C_cond, i, obs_index) for i in range(len(C_cond[0]))])"
   ]
  }
 ],
 "metadata": {
  "kernelspec": {
   "display_name": "Python 3",
   "language": "python",
   "name": "python3"
  },
  "language_info": {
   "codemirror_mode": {
    "name": "ipython",
    "version": 3
   },
   "file_extension": ".py",
   "mimetype": "text/x-python",
   "name": "python",
   "nbconvert_exporter": "python",
   "pygments_lexer": "ipython3",
   "version": "3.7.3"
  }
 },
 "nbformat": 4,
 "nbformat_minor": 2
}
